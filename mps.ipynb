{
 "cells": [
  {
   "cell_type": "markdown",
   "metadata": {},
   "source": [
    "## About MPS\n",
    "The matrix-product-state type defined by Prof. B Clark at UIUC. See his [Problem Set 3](https://courses.physics.illinois.edu/phys598bkc/fa2015/hw3.html)."
   ]
  },
  {
   "cell_type": "code",
   "execution_count": 18,
   "metadata": {},
   "outputs": [
    {
     "name": "stdout",
     "output_type": "stream",
     "text": [
      "MPS generated\n"
     ]
    }
   ],
   "source": [
    "# using Iterators\n",
    "\n",
    "struct Index\n",
    "    index_dims::Array{Int64}\n",
    "    index_names::Array{String}\n",
    "end\n",
    "\n",
    "struct Tensor\n",
    "    data::Array{Float64}                                             \n",
    "    myIndex::Index\n",
    "end\n",
    "\n",
    "struct MPS\n",
    "    sites::Array{Tensor}\n",
    "    siteIndex::Array{Integer}\n",
    "    MPS(A,range) = new(A,collect(range))\n",
    "end\n",
    "\n",
    "function makeTensor(theIndex)\n",
    "#    Tensor(Array(Float64,tuple(theIndex.index_dims[:]...)),theIndex)\n",
    "    Tensor(rand(Float64,tuple(theIndex.index_dims[:]...)),theIndex)\n",
    "end\n",
    "\n",
    "D=6\n",
    "spin_deg=2\n",
    "mps_size=3\n",
    "\n",
    "mps=MPS(\n",
    "        vcat(\n",
    "            vcat(\n",
    "                   [makeTensor(Index([1,D,spin_deg],[\"end\",\"i1\",\"s1\"]))],\n",
    "                   [makeTensor(Index([D,D,spin_deg],[\"i$(i-1)\",\"i$(i)\",\"s$i\"])) for i in 2:mps_size-1]\n",
    "            ),\n",
    "            [makeTensor(Index([D,1,spin_deg],[\"i$(mps_size-1)\",\"end\",\"s$(mps_size)\"]))]\n",
    "        ),\n",
    "        1:mps_size\n",
    ")\n",
    "\n",
    "println(\"MPS generated\")"
   ]
  },
  {
   "cell_type": "code",
   "execution_count": 20,
   "metadata": {},
   "outputs": [
    {
     "data": {
      "text/plain": [
       "3"
      ]
     },
     "execution_count": 20,
     "metadata": {},
     "output_type": "execute_result"
    }
   ],
   "source": [
    "length(mps.sites)"
   ]
  },
  {
   "cell_type": "code",
   "execution_count": 23,
   "metadata": {},
   "outputs": [
    {
     "data": {
      "text/plain": [
       "(6, 6, 2)"
      ]
     },
     "execution_count": 23,
     "metadata": {},
     "output_type": "execute_result"
    }
   ],
   "source": [
    "size(mps.sites[2].data)"
   ]
  },
  {
   "cell_type": "code",
   "execution_count": 24,
   "metadata": {},
   "outputs": [
    {
     "data": {
      "text/plain": [
       "6×6 Array{Float64,2}:\n",
       " 0.198483   0.882649  0.980162  0.0649154  0.0179639  0.164707\n",
       " 0.465996   0.411446  0.141909  0.366207   0.919958   0.462514\n",
       " 0.0784778  0.93219   0.78925   0.33938    0.692893   0.970096\n",
       " 0.189363   0.744635  0.654063  0.739734   0.460956   0.0336248\n",
       " 0.442492   0.801764  0.505965  0.496864   0.589975   0.491149\n",
       " 0.388372   0.831587  0.834485  0.579244   0.0164973  0.586705"
      ]
     },
     "execution_count": 24,
     "metadata": {},
     "output_type": "execute_result"
    }
   ],
   "source": [
    "mps.sites[2].data[:,:,1]"
   ]
  }
 ],
 "metadata": {
  "kernelspec": {
   "display_name": "Julia 1.4.0-rc2",
   "language": "julia",
   "name": "julia-1.4"
  },
  "language_info": {
   "file_extension": ".jl",
   "mimetype": "application/julia",
   "name": "julia",
   "version": "1.4.0"
  }
 },
 "nbformat": 4,
 "nbformat_minor": 4
}
